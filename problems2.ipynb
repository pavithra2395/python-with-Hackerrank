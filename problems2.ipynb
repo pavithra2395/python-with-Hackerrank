{
 "cells": [
  {
   "cell_type": "markdown",
   "metadata": {},
   "source": [
    "Get all substrings of given string"
   ]
  },
  {
   "cell_type": "code",
   "execution_count": 2,
   "metadata": {},
   "outputs": [
    {
     "name": "stdout",
     "output_type": "stream",
     "text": [
      "a\n",
      "am\n",
      "amm\n",
      "amma\n",
      "m\n",
      "mm\n",
      "mma\n",
      "m\n",
      "ma\n",
      "a\n"
     ]
    }
   ],
   "source": [
    "fun = \"amma\"\n",
    "\n",
    "for i in range(len(fun)):\n",
    "    for j in range(i+1, len(fun)+1):\n",
    "        res = fun[i:j]\n",
    "        print(res)"
   ]
  },
  {
   "cell_type": "code",
   "execution_count": 3,
   "metadata": {},
   "outputs": [
    {
     "name": "stdout",
     "output_type": "stream",
     "text": [
      "a\n",
      "am\n",
      "amm\n",
      "amma\n",
      "m\n",
      "mm\n",
      "mma\n",
      "m\n",
      "ma\n",
      "a\n"
     ]
    }
   ],
   "source": [
    "from itertools import combinations\n",
    "\n",
    "fun = \"amma\"\n",
    "\n",
    "for x,y in combinations(range(len(fun)+1), r = 2):\n",
    "    res =  fun[x:y]\n",
    "    print(res)"
   ]
  },
  {
   "cell_type": "code",
   "execution_count": 16,
   "metadata": {},
   "outputs": [
    {
     "name": "stdout",
     "output_type": "stream",
     "text": [
      "amma\n",
      "mma\n",
      "ma\n",
      "a\n"
     ]
    }
   ],
   "source": [
    "fun = \"amma\"\n",
    "for i in range(len(fun)):\n",
    "    for j in range(i+1, len(fun)+1):\n",
    "        res = fun[i:j]\n",
    "    print(res)"
   ]
  },
  {
   "cell_type": "code",
   "execution_count": null,
   "metadata": {},
   "outputs": [],
   "source": []
  }
 ],
 "metadata": {
  "kernelspec": {
   "display_name": "Python 3",
   "language": "python",
   "name": "python3"
  },
  "language_info": {
   "codemirror_mode": {
    "name": "ipython",
    "version": 3
   },
   "file_extension": ".py",
   "mimetype": "text/x-python",
   "name": "python",
   "nbconvert_exporter": "python",
   "pygments_lexer": "ipython3",
   "version": "3.8.3"
  }
 },
 "nbformat": 4,
 "nbformat_minor": 4
}

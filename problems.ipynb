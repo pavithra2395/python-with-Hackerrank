{
 "cells": [
  {
   "cell_type": "markdown",
   "metadata": {},
   "source": [
    "Hackerrank Problem solving:"
   ]
  },
  {
   "cell_type": "code",
   "execution_count": 1,
   "metadata": {},
   "outputs": [
    {
     "name": "stdout",
     "output_type": "stream",
     "text": [
      "AMMA\n",
      "Draw\n"
     ]
    }
   ],
   "source": [
    "def minion_game(string):\n",
    "    player1 = 0;\n",
    "    player2 = 0;\n",
    "    str_len = len(string)\n",
    "    for i in range(str_len):\n",
    "        if s[i] in \"AEIOU\":\n",
    "            player1 += (str_len)-i\n",
    "        else :\n",
    "            player2 += (str_len)-i\n",
    "    \n",
    "    if player1 > player2:\n",
    "        print(\"Kevin\", player1)\n",
    "    elif player1 < player2:\n",
    "        print(\"Stuart\",player2)\n",
    "    elif player1 == player2:\n",
    "        print(\"Draw\")\n",
    "    else :\n",
    "        print(\"Draw\")\n",
    "if __name__ == '__main__':\n",
    "    s = input()\n",
    "    minion_game(s)"
   ]
  },
  {
   "cell_type": "code",
   "execution_count": 2,
   "metadata": {},
   "outputs": [
    {
     "name": "stdout",
     "output_type": "stream",
     "text": [
      "AABCAAADA\n",
      "3\n",
      "A\n"
     ]
    }
   ],
   "source": [
    "def merge_the_tools(string, k):\n",
    "    \n",
    "    brk = [string[i:i+k] for i in range(0,len(string),k)]\n",
    "    for j in brk:\n",
    "        dd = list(j)\n",
    "        s = \"\"\n",
    "    for i in dd:\n",
    "        if i in s:\n",
    "            continue\n",
    "    else:\n",
    "        s +=i\n",
    "    print(s)\n",
    "\n",
    "        \n",
    "if __name__ == '__main__':\n",
    "    string, k = input(), int(input())\n",
    "    merge_the_tools(string, k)"
   ]
  },
  {
   "cell_type": "code",
   "execution_count": 6,
   "metadata": {},
   "outputs": [
    {
     "name": "stdout",
     "output_type": "stream",
     "text": [
      "AABCAAADA\n",
      "3\n",
      "AD\n"
     ]
    }
   ],
   "source": [
    "def merge_the_tools(string, k):\n",
    "    pos=[]\n",
    "    for i in range(0,len(string),k):\n",
    "        pos.append(i)\n",
    "        l=[]\n",
    "    for j in pos:\n",
    "        x=string[j:j+k]\n",
    "        p=[]\n",
    "    for j in x:\n",
    "        if j not in p:\n",
    "            p.append(j)\n",
    "        else:\n",
    "            continue\n",
    "    s=''\n",
    "    p=s.join(p)\n",
    "    l.append(p)\n",
    "    print(*l,sep='\\n')\n",
    "\n",
    "\n",
    "if __name__ == '__main__':\n",
    "    string, k = input(), int(input())\n",
    "    merge_the_tools(string, k)"
   ]
  },
  {
   "cell_type": "code",
   "execution_count": 11,
   "metadata": {},
   "outputs": [
    {
     "name": "stdout",
     "output_type": "stream",
     "text": [
      "AABCAAADA\n",
      "3\n",
      " A\n",
      " D\n",
      " A\n"
     ]
    }
   ],
   "source": [
    "def merge_the_tools(string, k):\n",
    "    l=int(len(string)/k)\n",
    "    t=[]\n",
    "    m=0\n",
    "    s=0\n",
    "    str=\" \"\n",
    "    newL=[]\n",
    "    for i in range(int(l)):\n",
    "        m=m+l\n",
    "        t.append(string[s:m])\n",
    "        s=s+l\n",
    "    for i in t:\n",
    "        i.split()\n",
    "    for j in i:\n",
    "        if j not in str:\n",
    "            str=str+j\n",
    "\n",
    "            newL.append(str)\n",
    "            str=\" \"\n",
    "    for i in newL:\n",
    "        print(i)\n",
    "if __name__ == '__main__':\n",
    "    string, k = input(), int(input())\n",
    "    merge_the_tools(string, k)"
   ]
  },
  {
   "cell_type": "code",
   "execution_count": 12,
   "metadata": {},
   "outputs": [
    {
     "name": "stdout",
     "output_type": "stream",
     "text": [
      "AABCAAADA\n",
      "3\n",
      "AB\n",
      "CA\n",
      "AD\n"
     ]
    }
   ],
   "source": [
    "s = input()\n",
    "k = int(input())\n",
    "num_subsegments = int(len(s) / k)\n",
    "\n",
    "for index in range(num_subsegments):\n",
    "    t = s[index * k : (index + 1) * k]\n",
    "    u = \"\"\n",
    "    for c in t:\n",
    "        if c not in u:\n",
    "            u += c\n",
    "    print(u)"
   ]
  },
  {
   "cell_type": "code",
   "execution_count": null,
   "metadata": {},
   "outputs": [],
   "source": []
  }
 ],
 "metadata": {
  "kernelspec": {
   "display_name": "Python 3",
   "language": "python",
   "name": "python3"
  },
  "language_info": {
   "codemirror_mode": {
    "name": "ipython",
    "version": 3
   },
   "file_extension": ".py",
   "mimetype": "text/x-python",
   "name": "python",
   "nbconvert_exporter": "python",
   "pygments_lexer": "ipython3",
   "version": "3.8.3"
  }
 },
 "nbformat": 4,
 "nbformat_minor": 4
}
